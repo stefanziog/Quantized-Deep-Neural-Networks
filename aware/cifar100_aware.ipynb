{
  "nbformat": 4,
  "nbformat_minor": 0,
  "metadata": {
    "colab": {
      "provenance": [],
      "collapsed_sections": [],
      "authorship_tag": "ABX9TyMVLqeY7Hypb+g51DruqmS1",
      "include_colab_link": true
    },
    "kernelspec": {
      "name": "python3",
      "display_name": "Python 3"
    },
    "language_info": {
      "name": "python"
    },
    "accelerator": "GPU"
  },
  "cells": [
    {
      "cell_type": "markdown",
      "metadata": {
        "id": "view-in-github",
        "colab_type": "text"
      },
      "source": [
        "<a href=\"https://colab.research.google.com/github/stefanziog/Quantized-Deep-Neural-Networks/blob/main/aware/cifar100_aware.ipynb\" target=\"_parent\"><img src=\"https://colab.research.google.com/assets/colab-badge.svg\" alt=\"Open In Colab\"/></a>"
      ]
    },
    {
      "cell_type": "code",
      "metadata": {
        "colab": {
          "base_uri": "https://localhost:8080/"
        },
        "id": "6eScgWnvFwnY",
        "outputId": "f9ae9ac0-1e97-4eb4-cc84-bb03ed801842"
      },
      "source": [
        "from google.colab import drive\n",
        "drive.mount('/content/gdrive')"
      ],
      "execution_count": null,
      "outputs": [
        {
          "output_type": "stream",
          "name": "stdout",
          "text": [
            "Mounted at /content/gdrive\n"
          ]
        }
      ]
    },
    {
      "cell_type": "code",
      "metadata": {
        "colab": {
          "base_uri": "https://localhost:8080/"
        },
        "id": "jKGpgzG6F4eU",
        "outputId": "eeba3d1b-0fea-4fea-ca8b-a58fc0aa29e6"
      },
      "source": [
        "! pip uninstall -y tensorflow\n",
        "! pip install -q tf-nightly\n",
        "! pip install -q tensorflow-model-optimization"
      ],
      "execution_count": null,
      "outputs": [
        {
          "output_type": "stream",
          "name": "stdout",
          "text": [
            "Found existing installation: tensorflow 2.6.0\n",
            "Uninstalling tensorflow-2.6.0:\n",
            "  Successfully uninstalled tensorflow-2.6.0\n",
            "\u001b[K     |████████████████████████████████| 485.4 MB 31 kB/s \n",
            "\u001b[K     |████████████████████████████████| 463 kB 44.4 MB/s \n",
            "\u001b[K     |████████████████████████████████| 5.8 MB 34.3 MB/s \n",
            "\u001b[K     |████████████████████████████████| 12.8 MB 147 kB/s \n",
            "\u001b[K     |████████████████████████████████| 2.3 MB 34.1 MB/s \n",
            "\u001b[K     |████████████████████████████████| 1.3 MB 37.5 MB/s \n",
            "\u001b[K     |████████████████████████████████| 211 kB 5.3 MB/s \n",
            "\u001b[?25h"
          ]
        }
      ]
    },
    {
      "cell_type": "code",
      "metadata": {
        "id": "qE-TxcR3F6Wl"
      },
      "source": [
        "import tempfile\n",
        "import os\n",
        "\n",
        "import tensorflow as tf\n",
        "import numpy as np\n",
        "import tensorflow_model_optimization as tfmot\n",
        "\n",
        "from tensorflow import keras\n",
        "from keras.datasets import cifar100"
      ],
      "execution_count": null,
      "outputs": []
    },
    {
      "cell_type": "code",
      "metadata": {
        "id": "5j9uGbFnF8vr"
      },
      "source": [
        "# load train and test dataset\n",
        "def load_dataset():\n",
        "# load dataset\n",
        "  \n",
        "  (train_images, train_labels), (test_images, test_labels) = cifar100.load_data()\n",
        "  \n",
        "  \n",
        "\t\n",
        "  return train_images, train_labels, test_images, test_labels\n",
        "\n",
        "# scale pixels\n",
        "def prep_pixels(train, test):\n",
        "\t# convert from integers to floats\n",
        "\ttrain_norm = train.astype('float32')\n",
        "\ttest_norm = test.astype('float32')\n",
        "\t# normalize to range 0-1\n",
        "\ttrain_norm = train_norm / 255.0\n",
        "\ttest_norm = test_norm / 255.0\n",
        "\t# return normalized images\n",
        "\treturn train_norm, test_norm"
      ],
      "execution_count": null,
      "outputs": []
    },
    {
      "cell_type": "code",
      "metadata": {
        "id": "YtxAJKvPF_x4"
      },
      "source": [
        "def evaluate_model(interpreter):\n",
        "  input_index = interpreter.get_input_details()[0][\"index\"]\n",
        "  output_index = interpreter.get_output_details()[0][\"index\"]\n",
        "\n",
        "  # Run predictions on every image in the \"test\" dataset.\n",
        "  prediction_digits = []\n",
        "  for i, test_image in enumerate(test_images):\n",
        "    if i % 1000 == 0:\n",
        "      print('Evaluated on {n} results so far.'.format(n=i))\n",
        "    # Pre-processing: add batch dimension and convert to float32 to match with\n",
        "    # the model's input data format.\n",
        "    test_image = np.expand_dims(test_image, axis=0).astype(np.float32)\n",
        "    interpreter.set_tensor(input_index, test_image)\n",
        "\n",
        "    # Run inference.\n",
        "    interpreter.invoke()\n",
        "\n",
        "    # Post-processing: remove batch dimension and find the digit with highest\n",
        "    # probability.\n",
        "    output = interpreter.tensor(output_index)\n",
        "    digit = np.argmax(output()[0])\n",
        "    prediction_digits.append(digit)\n",
        "\n",
        "  print('\\n')\n",
        "  # Compare prediction results with ground truth labels to calculate accuracy.\n",
        "  prediction_digits = np.array(prediction_digits)\n",
        "  accuracy = (prediction_digits == test_labels).mean()\n",
        "  return accuracy"
      ],
      "execution_count": null,
      "outputs": []
    },
    {
      "cell_type": "code",
      "metadata": {
        "colab": {
          "base_uri": "https://localhost:8080/"
        },
        "id": "LLK1-iK4GDMy",
        "outputId": "0ce965e4-35b4-4b47-97f5-bf4f1b059223"
      },
      "source": [
        "# load dataset\n",
        "train_images, train_labels, test_images, test_labels = load_dataset()\n",
        "\n",
        "# prepare pixel data\n",
        "train_images, test_images = prep_pixels(train_images, test_images)\n",
        "\n",
        "#load model\n",
        "model = tf.keras.models.load_model('/content/gdrive/MyDrive/Διπλωματική Κώδικες τελικοί/saved_models/cifar100.h5')"
      ],
      "execution_count": null,
      "outputs": [
        {
          "output_type": "stream",
          "name": "stdout",
          "text": [
            "Downloading data from https://www.cs.toronto.edu/~kriz/cifar-100-python.tar.gz\n",
            "169009152/169001437 [==============================] - 3s 0us/step\n",
            "169017344/169001437 [==============================] - 3s 0us/step\n"
          ]
        }
      ]
    },
    {
      "cell_type": "code",
      "metadata": {
        "colab": {
          "base_uri": "https://localhost:8080/"
        },
        "id": "abcJk6ysGGUq",
        "outputId": "fb49779f-1545-4c04-d53b-3b609cfde261"
      },
      "source": [
        "#Define Quantization Model\n",
        "\n",
        "quantize_model = tfmot.quantization.keras.quantize_model\n",
        "\n",
        "# q_aware stands for for quantization aware.\n",
        "q_aware_model = quantize_model(model)\n",
        "\n",
        "# `quantize_model` requires a recompile.\n",
        "q_aware_model.compile(optimizer='adam',\n",
        "              loss=tf.keras.losses.SparseCategoricalCrossentropy(from_logits=True),\n",
        "              metrics=['accuracy'])\n",
        "\n",
        "q_aware_model.summary()"
      ],
      "execution_count": null,
      "outputs": [
        {
          "output_type": "stream",
          "name": "stdout",
          "text": [
            "Model: \"sequential_1\"\n",
            "_________________________________________________________________\n",
            "Layer (type)                 Output Shape              Param #   \n",
            "=================================================================\n",
            "quantize_layer (QuantizeLay  (None, 32, 32, 3)         3         \n",
            "er)                                                              \n",
            "_________________________________________________________________\n",
            "quant_conv2d_6 (QuantizeWra  (None, 32, 32, 32)        963       \n",
            "pper)                                                            \n",
            "_________________________________________________________________\n",
            "quant_conv2d_7 (QuantizeWra  (None, 32, 32, 32)        9315      \n",
            "pper)                                                            \n",
            "_________________________________________________________________\n",
            "quant_max_pooling2d_3 (Quan  (None, 16, 16, 32)        1         \n",
            "tizeWrapper)                                                     \n",
            "_________________________________________________________________\n",
            "quant_dropout_4 (QuantizeWr  (None, 16, 16, 32)        1         \n",
            "apper)                                                           \n",
            "_________________________________________________________________\n",
            "quant_conv2d_8 (QuantizeWra  (None, 16, 16, 64)        18627     \n",
            "pper)                                                            \n",
            "_________________________________________________________________\n",
            "quant_conv2d_9 (QuantizeWra  (None, 16, 16, 64)        37059     \n",
            "pper)                                                            \n",
            "_________________________________________________________________\n",
            "quant_max_pooling2d_4 (Quan  (None, 8, 8, 64)          1         \n",
            "tizeWrapper)                                                     \n",
            "_________________________________________________________________\n",
            "quant_dropout_5 (QuantizeWr  (None, 8, 8, 64)          1         \n",
            "apper)                                                           \n",
            "_________________________________________________________________\n",
            "quant_conv2d_10 (QuantizeWr  (None, 8, 8, 128)         74115     \n",
            "apper)                                                           \n",
            "_________________________________________________________________\n",
            "quant_conv2d_11 (QuantizeWr  (None, 8, 8, 128)         147843    \n",
            "apper)                                                           \n",
            "_________________________________________________________________\n",
            "quant_max_pooling2d_5 (Quan  (None, 4, 4, 128)         1         \n",
            "tizeWrapper)                                                     \n",
            "_________________________________________________________________\n",
            "quant_dropout_6 (QuantizeWr  (None, 4, 4, 128)         1         \n",
            "apper)                                                           \n",
            "_________________________________________________________________\n",
            "quant_flatten_1 (QuantizeWr  (None, 2048)              1         \n",
            "apper)                                                           \n",
            "_________________________________________________________________\n",
            "quant_dense_2 (QuantizeWrap  (None, 128)               262277    \n",
            "per)                                                             \n",
            "_________________________________________________________________\n",
            "quant_dropout_7 (QuantizeWr  (None, 128)               1         \n",
            "apper)                                                           \n",
            "_________________________________________________________________\n",
            "quant_dense_3 (QuantizeWrap  (None, 100)               12905     \n",
            "per)                                                             \n",
            "_________________________________________________________________\n",
            "=================================================================\n",
            "Total params: 563,115\n",
            "Trainable params: 562,180\n",
            "Non-trainable params: 935\n",
            "_________________________________________________________________\n"
          ]
        }
      ]
    },
    {
      "cell_type": "code",
      "metadata": {
        "colab": {
          "base_uri": "https://localhost:8080/"
        },
        "id": "gBgd8ymwGJB4",
        "outputId": "e1ab9868-9a50-4b1f-959f-fd0d16b50a0a"
      },
      "source": [
        "#train and evaluate model against baseline\n",
        "train_images_subset = train_images[0:1000]  # out of 60000\n",
        "train_labels_subset = train_labels[0:1000]\n",
        "\n",
        "q_aware_model.fit(train_images_subset, train_labels_subset,\n",
        "                  batch_size=500, epochs=5, validation_split=0.1)"
      ],
      "execution_count": null,
      "outputs": [
        {
          "output_type": "stream",
          "name": "stdout",
          "text": [
            "Epoch 1/5\n"
          ]
        },
        {
          "output_type": "stream",
          "name": "stderr",
          "text": [
            "/usr/local/lib/python3.7/dist-packages/tensorflow/python/util/dispatch.py:1048: UserWarning: \"`sparse_categorical_crossentropy` received `from_logits=True`, but the `output` argument was produced by a sigmoid or softmax activation and thus does not represent logits. Was this intended?\"\n",
            "  return dispatch_target(*args, **kwargs)\n"
          ]
        },
        {
          "output_type": "stream",
          "name": "stdout",
          "text": [
            "2/2 [==============================] - 10s 4s/step - loss: 1.8281 - accuracy: 0.4867 - val_loss: 1.1149 - val_accuracy: 0.6900\n",
            "Epoch 2/5\n",
            "2/2 [==============================] - 7s 3s/step - loss: 1.6206 - accuracy: 0.5456 - val_loss: 1.1308 - val_accuracy: 0.7100\n",
            "Epoch 3/5\n",
            "2/2 [==============================] - 7s 3s/step - loss: 1.5326 - accuracy: 0.5633 - val_loss: 1.0836 - val_accuracy: 0.7000\n",
            "Epoch 4/5\n",
            "2/2 [==============================] - 7s 3s/step - loss: 1.3709 - accuracy: 0.6078 - val_loss: 1.1032 - val_accuracy: 0.6700\n",
            "Epoch 5/5\n",
            "2/2 [==============================] - 7s 3s/step - loss: 1.3083 - accuracy: 0.6044 - val_loss: 1.1037 - val_accuracy: 0.7200\n"
          ]
        },
        {
          "output_type": "execute_result",
          "data": {
            "text/plain": [
              "<keras.callbacks.History at 0x7f2a004de2d0>"
            ]
          },
          "metadata": {},
          "execution_count": 8
        }
      ]
    },
    {
      "cell_type": "code",
      "metadata": {
        "colab": {
          "base_uri": "https://localhost:8080/"
        },
        "id": "AVvEYg82GLNY",
        "outputId": "b990f7b9-5912-446a-c4ed-a456c34ec351"
      },
      "source": [
        "#Create Quantize model for TFLite\n",
        "converter = tf.lite.TFLiteConverter.from_keras_model(q_aware_model)\n",
        "converter.optimizations = [tf.lite.Optimize.DEFAULT]\n",
        "\n",
        "quantized_tflite_model = converter.convert()"
      ],
      "execution_count": null,
      "outputs": [
        {
          "output_type": "stream",
          "name": "stderr",
          "text": [
            "WARNING:absl:Found untraced functions such as conv2d_6_layer_call_fn, conv2d_6_layer_call_and_return_conditional_losses, conv2d_7_layer_call_fn, conv2d_7_layer_call_and_return_conditional_losses, dropout_4_layer_call_fn while saving (showing 5 of 65). These functions will not be directly callable after loading.\n"
          ]
        },
        {
          "output_type": "stream",
          "name": "stdout",
          "text": [
            "INFO:tensorflow:Assets written to: /tmp/tmpn2s57cy9/assets\n"
          ]
        },
        {
          "output_type": "stream",
          "name": "stderr",
          "text": [
            "INFO:tensorflow:Assets written to: /tmp/tmpn2s57cy9/assets\n",
            "WARNING:absl:Buffer deduplication procedure will be skipped when flatbuffer library is not properly loaded\n"
          ]
        }
      ]
    },
    {
      "cell_type": "code",
      "metadata": {
        "colab": {
          "base_uri": "https://localhost:8080/"
        },
        "id": "9bZX3dBCGNKS",
        "outputId": "68fa5460-5fbb-44de-9603-2bc2db4ddcb8"
      },
      "source": [
        "#Evaluate the quantized model\n",
        "_, baseline_model_accuracy = model.evaluate(\n",
        "    test_images, test_labels, verbose=0)\n",
        "\n",
        "_, q_aware_model_accuracy = q_aware_model.evaluate(\n",
        "   test_images, test_labels, verbose=0)\n",
        "\n",
        "print('Baseline test accuracy:', baseline_model_accuracy)\n",
        "print('Quant test accuracy:', q_aware_model_accuracy)"
      ],
      "execution_count": null,
      "outputs": [
        {
          "output_type": "stream",
          "name": "stderr",
          "text": [
            "/usr/local/lib/python3.7/dist-packages/tensorflow/python/util/dispatch.py:1048: UserWarning: \"`sparse_categorical_crossentropy` received `from_logits=True`, but the `output` argument was produced by a sigmoid or softmax activation and thus does not represent logits. Was this intended?\"\n",
            "  return dispatch_target(*args, **kwargs)\n"
          ]
        },
        {
          "output_type": "stream",
          "name": "stdout",
          "text": [
            "Baseline test accuracy: 0.47269999980926514\n",
            "Quant test accuracy: 0.46389999985694885\n"
          ]
        }
      ]
    },
    {
      "cell_type": "code",
      "metadata": {
        "colab": {
          "base_uri": "https://localhost:8080/"
        },
        "id": "_Hm2a5etGPPp",
        "outputId": "a0dc3c56-d71f-424b-c01f-58b8c1422d09"
      },
      "source": [
        "#Check the size of the models\n",
        "# Create float TFLite model.\n",
        "float_converter = tf.lite.TFLiteConverter.from_keras_model(model)\n",
        "float_tflite_model = float_converter.convert()\n",
        "\n",
        "# Measure sizes of models.\n",
        "_, float_file = tempfile.mkstemp('.tflite')\n",
        "_, quant_file = tempfile.mkstemp('.tflite')\n",
        "\n",
        "with open(quant_file, 'wb') as f:\n",
        "  f.write(quantized_tflite_model)\n",
        "\n",
        "with open(float_file, 'wb') as f:\n",
        "  f.write(float_tflite_model)\n",
        "\n",
        "print(\"Float model in Mb:\", os.path.getsize(float_file) / float(2**20))\n",
        "print(\"Quantized model in Mb:\", os.path.getsize(quant_file) / float(2**20))"
      ],
      "execution_count": null,
      "outputs": [
        {
          "output_type": "stream",
          "name": "stdout",
          "text": [
            "INFO:tensorflow:Assets written to: /tmp/tmpqrewy9zm/assets\n"
          ]
        },
        {
          "output_type": "stream",
          "name": "stderr",
          "text": [
            "INFO:tensorflow:Assets written to: /tmp/tmpqrewy9zm/assets\n",
            "WARNING:absl:Buffer deduplication procedure will be skipped when flatbuffer library is not properly loaded\n"
          ]
        },
        {
          "output_type": "stream",
          "name": "stdout",
          "text": [
            "Float model in Mb: 2.14935302734375\n",
            "Quantized model in Mb: 0.5551910400390625\n"
          ]
        }
      ]
    },
    {
      "cell_type": "code",
      "metadata": {
        "id": "4neoH0btHXY6"
      },
      "source": [
        "model.save('/content/gdrive/MyDrive/Διπλωματική Κώδικες τελικοί/saved_models/cifar100_aware.h5')"
      ],
      "execution_count": null,
      "outputs": []
    }
  ]
}