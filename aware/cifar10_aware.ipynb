{
  "nbformat": 4,
  "nbformat_minor": 0,
  "metadata": {
    "colab": {
      "provenance": [],
      "collapsed_sections": [],
      "authorship_tag": "ABX9TyMRYsswJkfT5m+CFLpdqc1U",
      "include_colab_link": true
    },
    "kernelspec": {
      "name": "python3",
      "display_name": "Python 3"
    },
    "language_info": {
      "name": "python"
    }
  },
  "cells": [
    {
      "cell_type": "markdown",
      "metadata": {
        "id": "view-in-github",
        "colab_type": "text"
      },
      "source": [
        "<a href=\"https://colab.research.google.com/github/stefanziog/Quantized-Deep-Neural-Networks/blob/main/aware/cifar10_aware.ipynb\" target=\"_parent\"><img src=\"https://colab.research.google.com/assets/colab-badge.svg\" alt=\"Open In Colab\"/></a>"
      ]
    },
    {
      "cell_type": "code",
      "metadata": {
        "colab": {
          "base_uri": "https://localhost:8080/"
        },
        "id": "V-kqYDc7NBwi",
        "outputId": "cf87e487-7e35-455f-a58d-df170a9c2a04"
      },
      "source": [
        "from google.colab import drive\n",
        "drive.mount('/content/gdrive')"
      ],
      "execution_count": null,
      "outputs": [
        {
          "output_type": "stream",
          "name": "stdout",
          "text": [
            "Mounted at /content/gdrive\n"
          ]
        }
      ]
    },
    {
      "cell_type": "code",
      "metadata": {
        "colab": {
          "base_uri": "https://localhost:8080/"
        },
        "id": "0KMRYnkdNIfI",
        "outputId": "286908d3-26f5-4bf6-aa43-25e9ac023ca3"
      },
      "source": [
        "! pip uninstall -y tensorflow\n",
        "! pip install -q tf-nightly\n",
        "! pip install -q tensorflow-model-optimization"
      ],
      "execution_count": null,
      "outputs": [
        {
          "output_type": "stream",
          "name": "stdout",
          "text": [
            "Found existing installation: tensorflow 2.6.0\n",
            "Uninstalling tensorflow-2.6.0:\n",
            "  Successfully uninstalled tensorflow-2.6.0\n",
            "\u001b[K     |████████████████████████████████| 483.4 MB 24 kB/s \n",
            "\u001b[K     |████████████████████████████████| 5.8 MB 43.7 MB/s \n",
            "\u001b[K     |████████████████████████████████| 2.3 MB 35.8 MB/s \n",
            "\u001b[K     |████████████████████████████████| 12.8 MB 145 kB/s \n",
            "\u001b[K     |████████████████████████████████| 1.3 MB 33.2 MB/s \n",
            "\u001b[K     |████████████████████████████████| 463 kB 71.2 MB/s \n",
            "\u001b[K     |████████████████████████████████| 211 kB 31.7 MB/s \n",
            "\u001b[?25h"
          ]
        }
      ]
    },
    {
      "cell_type": "code",
      "metadata": {
        "id": "0_5XxbJxNKYP"
      },
      "source": [
        "import tempfile\n",
        "import os\n",
        "\n",
        "import tensorflow as tf\n",
        "import numpy as np\n",
        "import tensorflow_model_optimization as tfmot\n",
        "\n",
        "from tensorflow import keras\n",
        "from keras.datasets import cifar10"
      ],
      "execution_count": null,
      "outputs": []
    },
    {
      "cell_type": "code",
      "metadata": {
        "id": "oV5944-rNPvi"
      },
      "source": [
        "# load train and test dataset\n",
        "def load_dataset():\n",
        "# load dataset\n",
        "  \n",
        "  (train_images, train_labels), (test_images, test_labels) = cifar10.load_data()\n",
        "  \n",
        "  \n",
        "\t\n",
        "  return train_images, train_labels, test_images, test_labels\n",
        "\n",
        "# scale pixels\n",
        "def prep_pixels(train, test):\n",
        "\t# convert from integers to floats\n",
        "\ttrain_norm = train.astype('float32')\n",
        "\ttest_norm = test.astype('float32')\n",
        "\t# normalize to range 0-1\n",
        "\ttrain_norm = train_norm / 255.0\n",
        "\ttest_norm = test_norm / 255.0\n",
        "\t# return normalized images\n",
        "\treturn train_norm, test_norm"
      ],
      "execution_count": null,
      "outputs": []
    },
    {
      "cell_type": "code",
      "metadata": {
        "id": "yNWZzt1_NVGM"
      },
      "source": [
        "import numpy as np\n",
        "\n",
        "def evaluate_model(interpreter):\n",
        "  input_index = interpreter.get_input_details()[0][\"index\"]\n",
        "  output_index = interpreter.get_output_details()[0][\"index\"]\n",
        "\n",
        "  # Run predictions on every image in the \"test\" dataset.\n",
        "  prediction_digits = []\n",
        "  for i, test_image in enumerate(test_images):\n",
        "    if i % 1000 == 0:\n",
        "      print('Evaluated on {n} results so far.'.format(n=i))\n",
        "    # Pre-processing: add batch dimension and convert to float32 to match with\n",
        "    # the model's input data format.\n",
        "    test_image = np.expand_dims(test_image, axis=0).astype(np.float32)\n",
        "    interpreter.set_tensor(input_index, test_image)\n",
        "\n",
        "    # Run inference.\n",
        "    interpreter.invoke()\n",
        "\n",
        "    # Post-processing: remove batch dimension and find the digit with highest\n",
        "    # probability.\n",
        "    output = interpreter.tensor(output_index)\n",
        "    digit = np.argmax(output()[0])\n",
        "    prediction_digits.append(digit)\n",
        "\n",
        "  print('\\n')\n",
        "  # Compare prediction results with ground truth labels to calculate accuracy.\n",
        "  prediction_digits = np.array(prediction_digits)\n",
        "  accuracy = (prediction_digits == test_labels).mean()\n",
        "  return accuracy"
      ],
      "execution_count": null,
      "outputs": []
    },
    {
      "cell_type": "code",
      "metadata": {
        "colab": {
          "base_uri": "https://localhost:8080/"
        },
        "id": "_2CwK4xnNgmz",
        "outputId": "5d4d4a6e-6112-4ba7-c4a4-335ed5b3e8e3"
      },
      "source": [
        "# load dataset\n",
        "train_images, train_labels, test_images, test_labels = load_dataset()\n",
        "\n",
        "# prepare pixel data\n",
        "train_images, test_images = prep_pixels(train_images, test_images)\n",
        "\n",
        "#load model\n",
        "model = tf.keras.models.load_model('/content/gdrive/MyDrive/Διπλωματική Κώδικες τελικοί/saved_models/cifar10.h5')"
      ],
      "execution_count": null,
      "outputs": [
        {
          "output_type": "stream",
          "name": "stdout",
          "text": [
            "Downloading data from https://www.cs.toronto.edu/~kriz/cifar-10-python.tar.gz\n",
            "170500096/170498071 [==============================] - 2s 0us/step\n",
            "170508288/170498071 [==============================] - 2s 0us/step\n"
          ]
        }
      ]
    },
    {
      "cell_type": "code",
      "metadata": {
        "colab": {
          "base_uri": "https://localhost:8080/"
        },
        "id": "ygRqPGORNgyO",
        "outputId": "05762aa2-aa11-40ce-f9a9-bb804525d3d7"
      },
      "source": [
        "#Define Quantization Model\n",
        "\n",
        "quantize_model = tfmot.quantization.keras.quantize_model\n",
        "\n",
        "# q_aware stands for for quantization aware.\n",
        "q_aware_model = quantize_model(model)\n",
        "\n",
        "# `quantize_model` requires a recompile.\n",
        "q_aware_model.compile(optimizer='adam',\n",
        "              loss=tf.keras.losses.SparseCategoricalCrossentropy(from_logits=True),\n",
        "              metrics=['accuracy'])\n",
        "\n",
        "q_aware_model.summary()"
      ],
      "execution_count": null,
      "outputs": [
        {
          "output_type": "stream",
          "name": "stdout",
          "text": [
            "Model: \"sequential\"\n",
            "_________________________________________________________________\n",
            "Layer (type)                 Output Shape              Param #   \n",
            "=================================================================\n",
            "quantize_layer (QuantizeLay  (None, 32, 32, 3)         3         \n",
            "er)                                                              \n",
            "_________________________________________________________________\n",
            "quant_conv2d (QuantizeWrapp  (None, 32, 32, 64)        1923      \n",
            "er)                                                              \n",
            "_________________________________________________________________\n",
            "quant_max_pooling2d (Quanti  (None, 16, 16, 64)        1         \n",
            "zeWrapper)                                                       \n",
            "_________________________________________________________________\n",
            "quant_conv2d_1 (QuantizeWra  (None, 16, 16, 128)       74115     \n",
            "pper)                                                            \n",
            "_________________________________________________________________\n",
            "quant_max_pooling2d_1 (Quan  (None, 8, 8, 128)         1         \n",
            "tizeWrapper)                                                     \n",
            "_________________________________________________________________\n",
            "quant_conv2d_2 (QuantizeWra  (None, 8, 8, 256)         295683    \n",
            "pper)                                                            \n",
            "_________________________________________________________________\n",
            "quant_max_pooling2d_2 (Quan  (None, 4, 4, 256)         1         \n",
            "tizeWrapper)                                                     \n",
            "_________________________________________________________________\n",
            "quant_flatten (QuantizeWrap  (None, 4096)              1         \n",
            "per)                                                             \n",
            "_________________________________________________________________\n",
            "quant_dense (QuantizeWrappe  (None, 1024)              4195333   \n",
            "r)                                                               \n",
            "_________________________________________________________________\n",
            "quant_dense_1 (QuantizeWrap  (None, 512)               524805    \n",
            "per)                                                             \n",
            "_________________________________________________________________\n",
            "quant_dense_2 (QuantizeWrap  (None, 10)                5135      \n",
            "per)                                                             \n",
            "_________________________________________________________________\n",
            "=================================================================\n",
            "Total params: 5,097,001\n",
            "Trainable params: 5,096,074\n",
            "Non-trainable params: 927\n",
            "_________________________________________________________________\n"
          ]
        }
      ]
    },
    {
      "cell_type": "code",
      "metadata": {
        "colab": {
          "base_uri": "https://localhost:8080/"
        },
        "id": "l7wsJhsmNpOk",
        "outputId": "3d560604-242c-43b6-d5df-085b5a11b470"
      },
      "source": [
        "#train and evaluate model against baseline\n",
        "train_images_subset = train_images[0:1000]  # out of 60000\n",
        "train_labels_subset = train_labels[0:1000]\n",
        "\n",
        "q_aware_model.fit(train_images_subset, train_labels_subset,\n",
        "                  batch_size=500, epochs=5, validation_split=0.1)"
      ],
      "execution_count": null,
      "outputs": [
        {
          "output_type": "stream",
          "name": "stdout",
          "text": [
            "Epoch 1/5\n"
          ]
        },
        {
          "output_type": "stream",
          "name": "stderr",
          "text": [
            "/usr/local/lib/python3.7/dist-packages/tensorflow/python/util/dispatch.py:1048: UserWarning: \"`sparse_categorical_crossentropy` received `from_logits=True`, but the `output` argument was produced by a sigmoid or softmax activation and thus does not represent logits. Was this intended?\"\n",
            "  return dispatch_target(*args, **kwargs)\n"
          ]
        },
        {
          "output_type": "stream",
          "name": "stdout",
          "text": [
            "2/2 [==============================] - 8s 3s/step - loss: 0.2199 - accuracy: 0.9256 - val_loss: 0.1433 - val_accuracy: 0.9500\n",
            "Epoch 2/5\n",
            "2/2 [==============================] - 6s 3s/step - loss: 0.0981 - accuracy: 0.9689 - val_loss: 0.1045 - val_accuracy: 0.9400\n",
            "Epoch 3/5\n",
            "2/2 [==============================] - 6s 3s/step - loss: 0.0522 - accuracy: 0.9811 - val_loss: 0.0783 - val_accuracy: 0.9500\n",
            "Epoch 4/5\n",
            "2/2 [==============================] - 6s 3s/step - loss: 0.0337 - accuracy: 0.9878 - val_loss: 0.0580 - val_accuracy: 0.9900\n",
            "Epoch 5/5\n",
            "2/2 [==============================] - 6s 3s/step - loss: 0.0224 - accuracy: 0.9911 - val_loss: 0.0389 - val_accuracy: 1.0000\n"
          ]
        },
        {
          "output_type": "execute_result",
          "data": {
            "text/plain": [
              "<keras.callbacks.History at 0x7fe38988ba50>"
            ]
          },
          "metadata": {},
          "execution_count": 8
        }
      ]
    },
    {
      "cell_type": "code",
      "metadata": {
        "colab": {
          "base_uri": "https://localhost:8080/"
        },
        "id": "u_N-9Sl8Nt07",
        "outputId": "49f1b8d7-9723-47e0-9b77-9912e10ca01d"
      },
      "source": [
        "#Create Quantize model for TFLite\n",
        "converter = tf.lite.TFLiteConverter.from_keras_model(q_aware_model)\n",
        "converter.optimizations = [tf.lite.Optimize.DEFAULT]\n",
        "\n",
        "quantized_tflite_model = converter.convert()"
      ],
      "execution_count": null,
      "outputs": [
        {
          "output_type": "stream",
          "name": "stderr",
          "text": [
            "WARNING:absl:Found untraced functions such as conv2d_layer_call_fn, conv2d_layer_call_and_return_conditional_losses, conv2d_1_layer_call_fn, conv2d_1_layer_call_and_return_conditional_losses, conv2d_2_layer_call_fn while saving (showing 5 of 35). These functions will not be directly callable after loading.\n"
          ]
        },
        {
          "output_type": "stream",
          "name": "stdout",
          "text": [
            "INFO:tensorflow:Assets written to: /tmp/tmp2fzxd_cd/assets\n"
          ]
        },
        {
          "output_type": "stream",
          "name": "stderr",
          "text": [
            "INFO:tensorflow:Assets written to: /tmp/tmp2fzxd_cd/assets\n",
            "WARNING:absl:Buffer deduplication procedure will be skipped when flatbuffer library is not properly loaded\n"
          ]
        }
      ]
    },
    {
      "cell_type": "code",
      "metadata": {
        "colab": {
          "base_uri": "https://localhost:8080/"
        },
        "id": "w5PPkVMaNv4a",
        "outputId": "5b5e3b05-09cf-4ab7-f35d-11bceda1a229"
      },
      "source": [
        "#Evaluate the quantized model\n",
        "_, baseline_model_accuracy = model.evaluate(\n",
        "    test_images, test_labels, verbose=0)\n",
        "\n",
        "_, q_aware_model_accuracy = q_aware_model.evaluate(\n",
        "   test_images, test_labels, verbose=0)\n",
        "\n",
        "print('Baseline test accuracy:', baseline_model_accuracy)\n",
        "print('Quant test accuracy:', q_aware_model_accuracy)"
      ],
      "execution_count": null,
      "outputs": [
        {
          "output_type": "stream",
          "name": "stderr",
          "text": [
            "/usr/local/lib/python3.7/dist-packages/tensorflow/python/util/dispatch.py:1048: UserWarning: \"`sparse_categorical_crossentropy` received `from_logits=True`, but the `output` argument was produced by a sigmoid or softmax activation and thus does not represent logits. Was this intended?\"\n",
            "  return dispatch_target(*args, **kwargs)\n"
          ]
        },
        {
          "output_type": "stream",
          "name": "stdout",
          "text": [
            "Baseline test accuracy: 0.7448999881744385\n",
            "Quant test accuracy: 0.7279000282287598\n"
          ]
        }
      ]
    },
    {
      "cell_type": "code",
      "metadata": {
        "colab": {
          "base_uri": "https://localhost:8080/"
        },
        "id": "RRW57JViNyAH",
        "outputId": "660f9d0f-5343-4ab8-92e2-899a8d0a6c34"
      },
      "source": [
        "#Check the size of the models\n",
        "# Create float TFLite model.\n",
        "float_converter = tf.lite.TFLiteConverter.from_keras_model(model)\n",
        "float_tflite_model = float_converter.convert()\n",
        "\n",
        "# Measure sizes of models.\n",
        "_, float_file = tempfile.mkstemp('.tflite')\n",
        "_, quant_file = tempfile.mkstemp('.tflite')\n",
        "\n",
        "with open(quant_file, 'wb') as f:\n",
        "  f.write(quantized_tflite_model)\n",
        "\n",
        "with open(float_file, 'wb') as f:\n",
        "  f.write(float_tflite_model)\n",
        "\n",
        "print(\"Float model in Mb:\", os.path.getsize(float_file) / float(2**20))\n",
        "print(\"Quantized model in Mb:\", os.path.getsize(quant_file) / float(2**20))"
      ],
      "execution_count": null,
      "outputs": [
        {
          "output_type": "stream",
          "name": "stdout",
          "text": [
            "INFO:tensorflow:Assets written to: /tmp/tmp1ilk2hqd/assets\n"
          ]
        },
        {
          "output_type": "stream",
          "name": "stderr",
          "text": [
            "INFO:tensorflow:Assets written to: /tmp/tmp1ilk2hqd/assets\n",
            "WARNING:absl:Buffer deduplication procedure will be skipped when flatbuffer library is not properly loaded\n"
          ]
        },
        {
          "output_type": "stream",
          "name": "stdout",
          "text": [
            "Float model in Mb: 19.443763732910156\n",
            "Quantized model in Mb: 4.8814239501953125\n"
          ]
        }
      ]
    }
  ]
}