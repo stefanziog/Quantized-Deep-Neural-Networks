{
  "nbformat": 4,
  "nbformat_minor": 0,
  "metadata": {
    "colab": {
      "provenance": [],
      "collapsed_sections": [],
      "authorship_tag": "ABX9TyOJoZBYvLjlhn2bYG9FXp+z",
      "include_colab_link": true
    },
    "kernelspec": {
      "name": "python3",
      "display_name": "Python 3"
    },
    "language_info": {
      "name": "python"
    },
    "accelerator": "GPU"
  },
  "cells": [
    {
      "cell_type": "markdown",
      "metadata": {
        "id": "view-in-github",
        "colab_type": "text"
      },
      "source": [
        "<a href=\"https://colab.research.google.com/github/stefanziog/Quantized-Deep-Neural-Networks/blob/main/aware/fashion_mnist_aware.ipynb\" target=\"_parent\"><img src=\"https://colab.research.google.com/assets/colab-badge.svg\" alt=\"Open In Colab\"/></a>"
      ]
    },
    {
      "cell_type": "code",
      "metadata": {
        "colab": {
          "base_uri": "https://localhost:8080/"
        },
        "id": "hMuxryP9LiH8",
        "outputId": "ee6dc581-8954-4c5c-e207-0e490557a345"
      },
      "source": [
        "from google.colab import drive\n",
        "drive.mount('/content/gdrive')"
      ],
      "execution_count": null,
      "outputs": [
        {
          "output_type": "stream",
          "name": "stdout",
          "text": [
            "Mounted at /content/gdrive\n"
          ]
        }
      ]
    },
    {
      "cell_type": "code",
      "metadata": {
        "colab": {
          "base_uri": "https://localhost:8080/"
        },
        "id": "QUOdOvKdLmhP",
        "outputId": "e287c9fe-967e-425e-c17f-9d2a9a2fccac"
      },
      "source": [
        "! pip uninstall -y tensorflow\n",
        "! pip install -q tf-nightly\n",
        "! pip install -q tensorflow-model-optimization"
      ],
      "execution_count": null,
      "outputs": [
        {
          "output_type": "stream",
          "name": "stdout",
          "text": [
            "Found existing installation: tensorflow 2.6.0\n",
            "Uninstalling tensorflow-2.6.0:\n",
            "  Successfully uninstalled tensorflow-2.6.0\n",
            "\u001b[K     |████████████████████████████████| 485.4 MB 32 kB/s \n",
            "\u001b[K     |████████████████████████████████| 2.3 MB 33.8 MB/s \n",
            "\u001b[K     |████████████████████████████████| 463 kB 43.6 MB/s \n",
            "\u001b[K     |████████████████████████████████| 1.3 MB 29.6 MB/s \n",
            "\u001b[K     |████████████████████████████████| 5.8 MB 33.7 MB/s \n",
            "\u001b[K     |████████████████████████████████| 12.8 MB 138 kB/s \n",
            "\u001b[K     |████████████████████████████████| 211 kB 6.5 MB/s \n",
            "\u001b[?25h"
          ]
        }
      ]
    },
    {
      "cell_type": "code",
      "metadata": {
        "id": "2e6J-Ox4LoOG"
      },
      "source": [
        "import tempfile\n",
        "import os\n",
        "\n",
        "import tensorflow as tf\n",
        "import numpy as np\n",
        "import tensorflow_model_optimization as tfmot\n",
        "\n",
        "from tensorflow import keras"
      ],
      "execution_count": null,
      "outputs": []
    },
    {
      "cell_type": "code",
      "metadata": {
        "id": "KiWz9LjPLrE8"
      },
      "source": [
        "# load train and test dataset\n",
        "def load_dataset():\n",
        "# load dataset\n",
        "  fashion_mnist = keras.datasets.fashion_mnist\n",
        "  (train_images, train_labels), (test_images, test_labels) = fashion_mnist.load_data()\n",
        "\n",
        "  class_names = [\"T-shirt/top\", \"Trouser\", \"Pullover\",\"Dress\", \"Coat\", \"Sandal\",\n",
        "                 \"Shirt\",\"Sneaker\", \"Bag\", \"Ankle boot\"]\n",
        "\t\n",
        "  return train_images, train_labels, test_images, test_labels\n",
        "\n",
        "# scale pixels\n",
        "def prep_pixels(train, test):\n",
        "\t# convert from integers to floats\n",
        "\ttrain_norm = train.astype('float32')\n",
        "\ttest_norm = test.astype('float32')\n",
        "\t# normalize to range 0-1\n",
        "\ttrain_norm = train_norm / 255.0\n",
        "\ttest_norm = test_norm / 255.0\n",
        "\t# return normalized images\n",
        "\treturn train_norm, test_norm"
      ],
      "execution_count": null,
      "outputs": []
    },
    {
      "cell_type": "code",
      "metadata": {
        "id": "yRDptiDOLurj"
      },
      "source": [
        "def evaluate_model(interpreter):\n",
        "  input_index = interpreter.get_input_details()[0][\"index\"]\n",
        "  output_index = interpreter.get_output_details()[0][\"index\"]\n",
        "\n",
        "  # Run predictions on every image in the \"test\" dataset.\n",
        "  prediction_digits = []\n",
        "  for i, test_image in enumerate(test_images):\n",
        "    if i % 1000 == 0:\n",
        "      print('Evaluated on {n} results so far.'.format(n=i))\n",
        "    # Pre-processing: add batch dimension and convert to float32 to match with\n",
        "    # the model's input data format.\n",
        "    test_image = np.expand_dims(test_image, axis=0).astype(np.float32)\n",
        "    interpreter.set_tensor(input_index, test_image)\n",
        "\n",
        "    # Run inference.\n",
        "    interpreter.invoke()\n",
        "\n",
        "    # Post-processing: remove batch dimension and find the digit with highest\n",
        "    # probability.\n",
        "    output = interpreter.tensor(output_index)\n",
        "    digit = np.argmax(output()[0])\n",
        "    prediction_digits.append(digit)\n",
        "\n",
        "  print('\\n')\n",
        "  # Compare prediction results with ground truth labels to calculate accuracy.\n",
        "  prediction_digits = np.array(prediction_digits)\n",
        "  accuracy = (prediction_digits == test_labels).mean()\n",
        "  return accuracy"
      ],
      "execution_count": null,
      "outputs": []
    },
    {
      "cell_type": "code",
      "metadata": {
        "colab": {
          "base_uri": "https://localhost:8080/"
        },
        "id": "OPsI9xjILxJk",
        "outputId": "e091b90a-65d0-485d-bf74-ce31eab8c544"
      },
      "source": [
        "# load dataset\n",
        "train_images, train_labels, test_images, test_labels = load_dataset()\n",
        "\n",
        "# prepare pixel data\n",
        "train_images, test_images = prep_pixels(train_images, test_images)\n",
        "\n",
        "#load model\n",
        "model = tf.keras.models.load_model('/content/gdrive/MyDrive/Διπλωματική Κώδικες τελικοί/saved_models/fashion_mnist.h5')"
      ],
      "execution_count": null,
      "outputs": [
        {
          "output_type": "stream",
          "name": "stdout",
          "text": [
            "Downloading data from https://storage.googleapis.com/tensorflow/tf-keras-datasets/train-labels-idx1-ubyte.gz\n",
            "32768/29515 [=================================] - 0s 0us/step\n",
            "40960/29515 [=========================================] - 0s 0us/step\n",
            "Downloading data from https://storage.googleapis.com/tensorflow/tf-keras-datasets/train-images-idx3-ubyte.gz\n",
            "26427392/26421880 [==============================] - 0s 0us/step\n",
            "26435584/26421880 [==============================] - 0s 0us/step\n",
            "Downloading data from https://storage.googleapis.com/tensorflow/tf-keras-datasets/t10k-labels-idx1-ubyte.gz\n",
            "16384/5148 [===============================================================================================] - 0s 0us/step\n",
            "Downloading data from https://storage.googleapis.com/tensorflow/tf-keras-datasets/t10k-images-idx3-ubyte.gz\n",
            "4423680/4422102 [==============================] - 0s 0us/step\n",
            "4431872/4422102 [==============================] - 0s 0us/step\n"
          ]
        }
      ]
    },
    {
      "cell_type": "code",
      "metadata": {
        "colab": {
          "base_uri": "https://localhost:8080/"
        },
        "id": "1VjwE3djL2gN",
        "outputId": "2cd3d59b-bd91-49c3-ba02-4c763b37c7fa"
      },
      "source": [
        "#Define Quantization Model\n",
        "\n",
        "quantize_model = tfmot.quantization.keras.quantize_model\n",
        "\n",
        "# q_aware stands for for quantization aware.\n",
        "q_aware_model = quantize_model(model)\n",
        "\n",
        "# `quantize_model` requires a recompile.\n",
        "q_aware_model.compile(optimizer='adam',\n",
        "              loss=tf.keras.losses.SparseCategoricalCrossentropy(from_logits=True),\n",
        "              metrics=['accuracy'])\n",
        "\n",
        "q_aware_model.summary()"
      ],
      "execution_count": null,
      "outputs": [
        {
          "output_type": "stream",
          "name": "stdout",
          "text": [
            "Model: \"sequential_5\"\n",
            "_________________________________________________________________\n",
            "Layer (type)                 Output Shape              Param #   \n",
            "=================================================================\n",
            "quantize_layer (QuantizeLay  (None, 28, 28)            3         \n",
            "er)                                                              \n",
            "_________________________________________________________________\n",
            "quant_reshape (QuantizeWrap  (None, 28, 28, 1)         1         \n",
            "per)                                                             \n",
            "_________________________________________________________________\n",
            "quant_conv2d_29 (QuantizeWr  (None, 28, 28, 32)        387       \n",
            "apper)                                                           \n",
            "_________________________________________________________________\n",
            "quant_conv2d_30 (QuantizeWr  (None, 28, 28, 32)        9315      \n",
            "apper)                                                           \n",
            "_________________________________________________________________\n",
            "quant_max_pooling2d_17 (Qua  (None, 14, 14, 32)        1         \n",
            "ntizeWrapper)                                                    \n",
            "_________________________________________________________________\n",
            "quant_dropout_16 (QuantizeW  (None, 14, 14, 32)        1         \n",
            "rapper)                                                          \n",
            "_________________________________________________________________\n",
            "quant_conv2d_31 (QuantizeWr  (None, 14, 14, 64)        18627     \n",
            "apper)                                                           \n",
            "_________________________________________________________________\n",
            "quant_conv2d_32 (QuantizeWr  (None, 14, 14, 64)        37059     \n",
            "apper)                                                           \n",
            "_________________________________________________________________\n",
            "quant_max_pooling2d_18 (Qua  (None, 7, 7, 64)          1         \n",
            "ntizeWrapper)                                                    \n",
            "_________________________________________________________________\n",
            "quant_dropout_17 (QuantizeW  (None, 7, 7, 64)          1         \n",
            "rapper)                                                          \n",
            "_________________________________________________________________\n",
            "quant_conv2d_33 (QuantizeWr  (None, 7, 7, 128)         74115     \n",
            "apper)                                                           \n",
            "_________________________________________________________________\n",
            "quant_conv2d_34 (QuantizeWr  (None, 7, 7, 128)         147843    \n",
            "apper)                                                           \n",
            "_________________________________________________________________\n",
            "quant_max_pooling2d_19 (Qua  (None, 3, 3, 128)         1         \n",
            "ntizeWrapper)                                                    \n",
            "_________________________________________________________________\n",
            "quant_dropout_18 (QuantizeW  (None, 3, 3, 128)         1         \n",
            "rapper)                                                          \n",
            "_________________________________________________________________\n",
            "quant_flatten_5 (QuantizeWr  (None, 1152)              1         \n",
            "apper)                                                           \n",
            "_________________________________________________________________\n",
            "quant_dense_10 (QuantizeWra  (None, 128)               147589    \n",
            "pper)                                                            \n",
            "_________________________________________________________________\n",
            "quant_dropout_19 (QuantizeW  (None, 128)               1         \n",
            "rapper)                                                          \n",
            "_________________________________________________________________\n",
            "quant_dense_11 (QuantizeWra  (None, 10)                1295      \n",
            "pper)                                                            \n",
            "_________________________________________________________________\n",
            "=================================================================\n",
            "Total params: 436,242\n",
            "Trainable params: 435,306\n",
            "Non-trainable params: 936\n",
            "_________________________________________________________________\n"
          ]
        }
      ]
    },
    {
      "cell_type": "code",
      "metadata": {
        "colab": {
          "base_uri": "https://localhost:8080/"
        },
        "id": "JbgezQ8vL5K5",
        "outputId": "a4e101e0-3dbf-410f-8369-73b059ba2843"
      },
      "source": [
        "#train and evaluate model against baseline\n",
        "train_images_subset = train_images[0:1000]  # out of 60000\n",
        "train_labels_subset = train_labels[0:1000]\n",
        "\n",
        "q_aware_model.fit(train_images_subset, train_labels_subset,\n",
        "                  batch_size=500, epochs=5, validation_split=0.1)"
      ],
      "execution_count": null,
      "outputs": [
        {
          "output_type": "stream",
          "name": "stdout",
          "text": [
            "Epoch 1/5\n"
          ]
        },
        {
          "output_type": "stream",
          "name": "stderr",
          "text": [
            "/usr/local/lib/python3.7/dist-packages/tensorflow/python/util/dispatch.py:1048: UserWarning: \"`sparse_categorical_crossentropy` received `from_logits=True`, but the `output` argument was produced by a sigmoid or softmax activation and thus does not represent logits. Was this intended?\"\n",
            "  return dispatch_target(*args, **kwargs)\n"
          ]
        },
        {
          "output_type": "stream",
          "name": "stdout",
          "text": [
            "2/2 [==============================] - 8s 3s/step - loss: 0.3141 - accuracy: 0.8978 - val_loss: 0.2738 - val_accuracy: 0.9200\n",
            "Epoch 2/5\n",
            "2/2 [==============================] - 6s 3s/step - loss: 0.2330 - accuracy: 0.9189 - val_loss: 0.1933 - val_accuracy: 0.9300\n",
            "Epoch 3/5\n",
            "2/2 [==============================] - 6s 3s/step - loss: 0.1819 - accuracy: 0.9322 - val_loss: 0.1674 - val_accuracy: 0.9500\n",
            "Epoch 4/5\n",
            "2/2 [==============================] - 6s 3s/step - loss: 0.1540 - accuracy: 0.9522 - val_loss: 0.1613 - val_accuracy: 0.9300\n",
            "Epoch 5/5\n",
            "2/2 [==============================] - 6s 3s/step - loss: 0.1273 - accuracy: 0.9589 - val_loss: 0.1503 - val_accuracy: 0.9500\n"
          ]
        },
        {
          "output_type": "execute_result",
          "data": {
            "text/plain": [
              "<keras.callbacks.History at 0x7f1ea0064390>"
            ]
          },
          "metadata": {},
          "execution_count": 8
        }
      ]
    },
    {
      "cell_type": "code",
      "metadata": {
        "colab": {
          "base_uri": "https://localhost:8080/"
        },
        "id": "a1AdR38iL7n_",
        "outputId": "2fa08de8-52dc-44da-d1b5-304f8529a234"
      },
      "source": [
        "#Create Quantize model for TFLite\n",
        "converter = tf.lite.TFLiteConverter.from_keras_model(q_aware_model)\n",
        "converter.optimizations = [tf.lite.Optimize.DEFAULT]\n",
        "\n",
        "quantized_tflite_model = converter.convert()"
      ],
      "execution_count": null,
      "outputs": [
        {
          "output_type": "stream",
          "name": "stderr",
          "text": [
            "WARNING:absl:Found untraced functions such as reshape_layer_call_fn, reshape_layer_call_and_return_conditional_losses, conv2d_29_layer_call_fn, conv2d_29_layer_call_and_return_conditional_losses, conv2d_30_layer_call_fn while saving (showing 5 of 70). These functions will not be directly callable after loading.\n"
          ]
        },
        {
          "output_type": "stream",
          "name": "stdout",
          "text": [
            "INFO:tensorflow:Assets written to: /tmp/tmpgn46rjd0/assets\n"
          ]
        },
        {
          "output_type": "stream",
          "name": "stderr",
          "text": [
            "INFO:tensorflow:Assets written to: /tmp/tmpgn46rjd0/assets\n",
            "WARNING:absl:Buffer deduplication procedure will be skipped when flatbuffer library is not properly loaded\n"
          ]
        }
      ]
    },
    {
      "cell_type": "code",
      "metadata": {
        "colab": {
          "base_uri": "https://localhost:8080/"
        },
        "id": "feHGnmRLL9zn",
        "outputId": "a3755dd1-0104-486d-e61a-6bf9370d814b"
      },
      "source": [
        "#Evaluate the quantized model\n",
        "_, baseline_model_accuracy = model.evaluate(\n",
        "    test_images, test_labels, verbose=0)\n",
        "\n",
        "_, q_aware_model_accuracy = q_aware_model.evaluate(\n",
        "   test_images, test_labels, verbose=0)\n",
        "\n",
        "print('Baseline test accuracy:', baseline_model_accuracy)\n",
        "print('Quant test accuracy:', q_aware_model_accuracy)"
      ],
      "execution_count": null,
      "outputs": [
        {
          "output_type": "stream",
          "name": "stderr",
          "text": [
            "/usr/local/lib/python3.7/dist-packages/tensorflow/python/util/dispatch.py:1048: UserWarning: \"`sparse_categorical_crossentropy` received `from_logits=True`, but the `output` argument was produced by a sigmoid or softmax activation and thus does not represent logits. Was this intended?\"\n",
            "  return dispatch_target(*args, **kwargs)\n"
          ]
        },
        {
          "output_type": "stream",
          "name": "stdout",
          "text": [
            "Baseline test accuracy: 0.9326000213623047\n",
            "Quant test accuracy: 0.9282000064849854\n"
          ]
        }
      ]
    },
    {
      "cell_type": "code",
      "metadata": {
        "colab": {
          "base_uri": "https://localhost:8080/"
        },
        "id": "g--hvGiwMAGs",
        "outputId": "0013628f-26ad-4898-e5be-a9d83eddce33"
      },
      "source": [
        "#Check the size of the models\n",
        "# Create float TFLite model.\n",
        "float_converter = tf.lite.TFLiteConverter.from_keras_model(model)\n",
        "float_tflite_model = float_converter.convert()\n",
        "\n",
        "# Measure sizes of models.\n",
        "_, float_file = tempfile.mkstemp('.tflite')\n",
        "_, quant_file = tempfile.mkstemp('.tflite')\n",
        "\n",
        "with open(quant_file, 'wb') as f:\n",
        "  f.write(quantized_tflite_model)\n",
        "\n",
        "with open(float_file, 'wb') as f:\n",
        "  f.write(float_tflite_model)\n",
        "\n",
        "print(\"Float model in Mb:\", os.path.getsize(float_file) / float(2**20))\n",
        "print(\"Quantized model in Mb:\", os.path.getsize(quant_file) / float(2**20))"
      ],
      "execution_count": null,
      "outputs": [
        {
          "output_type": "stream",
          "name": "stdout",
          "text": [
            "INFO:tensorflow:Assets written to: /tmp/tmphxesyuwh/assets\n"
          ]
        },
        {
          "output_type": "stream",
          "name": "stderr",
          "text": [
            "INFO:tensorflow:Assets written to: /tmp/tmphxesyuwh/assets\n",
            "WARNING:absl:Buffer deduplication procedure will be skipped when flatbuffer library is not properly loaded\n"
          ]
        },
        {
          "output_type": "stream",
          "name": "stdout",
          "text": [
            "Float model in Mb: 1.6664085388183594\n",
            "Quantized model in Mb: 0.43503570556640625\n"
          ]
        }
      ]
    },
    {
      "cell_type": "code",
      "metadata": {
        "id": "U0Ip67blNQt3"
      },
      "source": [
        "q_aware_model.save('/content/gdrive/MyDrive/Διπλωματική Κώδικες τελικοί/saved_models/fashion_mnist_aware.h5')"
      ],
      "execution_count": null,
      "outputs": []
    }
  ]
}