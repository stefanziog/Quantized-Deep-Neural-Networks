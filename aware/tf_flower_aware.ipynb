{
  "nbformat": 4,
  "nbformat_minor": 0,
  "metadata": {
    "colab": {
      "provenance": [],
      "collapsed_sections": [],
      "authorship_tag": "ABX9TyM/l9PyIt0yksKpvMTrEdNW",
      "include_colab_link": true
    },
    "kernelspec": {
      "name": "python3",
      "display_name": "Python 3"
    },
    "language_info": {
      "name": "python"
    },
    "accelerator": "GPU"
  },
  "cells": [
    {
      "cell_type": "markdown",
      "metadata": {
        "id": "view-in-github",
        "colab_type": "text"
      },
      "source": [
        "<a href=\"https://colab.research.google.com/github/stefanziog/Quantized-Deep-Neural-Networks/blob/main/aware/tf_flower_aware.ipynb\" target=\"_parent\"><img src=\"https://colab.research.google.com/assets/colab-badge.svg\" alt=\"Open In Colab\"/></a>"
      ]
    },
    {
      "cell_type": "code",
      "metadata": {
        "colab": {
          "base_uri": "https://localhost:8080/"
        },
        "id": "hMuxryP9LiH8",
        "outputId": "16dcacc9-4d00-4433-e899-0adb053527c9"
      },
      "source": [
        "from google.colab import drive\n",
        "drive.mount('/content/gdrive')"
      ],
      "execution_count": null,
      "outputs": [
        {
          "output_type": "stream",
          "name": "stdout",
          "text": [
            "Drive already mounted at /content/gdrive; to attempt to forcibly remount, call drive.mount(\"/content/gdrive\", force_remount=True).\n"
          ]
        }
      ]
    },
    {
      "cell_type": "code",
      "metadata": {
        "colab": {
          "base_uri": "https://localhost:8080/"
        },
        "id": "QUOdOvKdLmhP",
        "outputId": "37565eb1-f365-4775-daa3-41b7a697e505"
      },
      "source": [
        "! pip uninstall -y tensorflow\n",
        "! pip install -q tf-nightly\n",
        "! pip install -q tensorflow-model-optimization"
      ],
      "execution_count": null,
      "outputs": [
        {
          "output_type": "stream",
          "name": "stdout",
          "text": [
            "\u001b[33mWARNING: Skipping tensorflow as it is not installed.\u001b[0m\n"
          ]
        }
      ]
    },
    {
      "cell_type": "code",
      "metadata": {
        "id": "2e6J-Ox4LoOG"
      },
      "source": [
        "import tempfile\n",
        "import os\n",
        "\n",
        "import tensorflow as tf\n",
        "import numpy as np\n",
        "import tensorflow_model_optimization as tfmot\n",
        "\n",
        "import pathlib\n",
        "import PIL\n",
        "\n",
        "from tensorflow import keras"
      ],
      "execution_count": null,
      "outputs": []
    },
    {
      "cell_type": "code",
      "metadata": {
        "id": "KiWz9LjPLrE8"
      },
      "source": [
        "# load train and test dataset\n",
        "def load_dataset():\n",
        "# load dataset\n",
        "  dataset_url = \"https://storage.googleapis.com/download.tensorflow.org/example_images/flower_photos.tgz\"\n",
        "  data_dir = tf.keras.utils.get_file('flower_photos', origin=dataset_url, untar=True)\n",
        "  data_dir = pathlib.Path(data_dir)\n",
        "\n",
        "  image_count = len(list(data_dir.glob('*/*.jpg')))\n",
        "  print(image_count)\n",
        "  roses = list(data_dir.glob('roses/*'))\n",
        "  PIL.Image.open(str(roses[0]))\n",
        "\n",
        "  categories = [\"daisy\", \"dandelion\", \"roses\", \"sunflowers\", \"tulips\"]\n",
        "\n",
        "\n",
        "\n",
        "  daisy = list(data_dir.glob('daisy/*'))\n",
        "  dandelion = list(data_dir.glob('dandelion/*'))\n",
        "  roses = list(data_dir.glob('roses/*'))\n",
        "  sunflowers = list(data_dir.glob('sunflowers/*'))\n",
        "  tulips = list(data_dir.glob('turlips/*'))\n",
        "\n",
        "  data = []\n",
        "  labels = []\n",
        "\n",
        "  for i in daisy:\n",
        "    image=tf.keras.preprocessing.image.load_img(i, color_mode='rgb',\n",
        "    target_size =  (280,280))\n",
        "    image=np.array(image)\n",
        "    data.append(image)\n",
        "    labels.append(0)\n",
        "  for i in dandelion:\n",
        "    image=tf.keras.preprocessing.image.load_img(i, color_mode='rgb',\n",
        "    target_size= (280,280))\n",
        "    image=np.array(image)\n",
        "    data.append(image)\n",
        "    labels.append(1)\n",
        "  for i in roses:\n",
        "    image=tf.keras.preprocessing.image.load_img(i, color_mode='rgb',\n",
        "    target_size= (280,280))\n",
        "    image=np.array(image)\n",
        "    data.append(image)\n",
        "    labels.append(2)\n",
        "  for i in sunflowers:\n",
        "    image=tf.keras.preprocessing.image.load_img(i, color_mode='rgb',\n",
        "    target_size= (280,280))\n",
        "    image=np.array(image)\n",
        "    data.append(image)\n",
        "    labels.append(3)\n",
        "  for i in tulips:\n",
        "    image=tf.keras.preprocessing.image.load_img(i, color_mode='rgb',\n",
        "    target_size= (280,280))\n",
        "    image=np.array(image)\n",
        "    data.append(image)\n",
        "    labels.append(3)\n",
        "  data = np.array(data)\n",
        "  labels = np.array(labels)\n",
        "\n",
        "  from sklearn.model_selection import train_test_split\n",
        "  train_images, test_images, train_labels, test_labels = train_test_split(data, labels, test_size=0.2,\n",
        "                                                random_state=42)\n",
        "\t\n",
        "  return train_images, train_labels, test_images, test_labels\n",
        "# scale pixels\n",
        "def prep_pixels(train, test):\n",
        "\t# convert from integers to floats\n",
        "\ttrain_norm = train.astype('float32')\n",
        "\ttest_norm = test.astype('float32')\n",
        "\t# normalize to range 0-1\n",
        "\ttrain_norm = train_norm / 255.0\n",
        "\ttest_norm = test_norm / 255.0\n",
        "\t# return normalized images\n",
        "\treturn train_norm, test_norm"
      ],
      "execution_count": null,
      "outputs": []
    },
    {
      "cell_type": "code",
      "metadata": {
        "id": "yRDptiDOLurj"
      },
      "source": [
        "def evaluate_model(interpreter):\n",
        "  input_index = interpreter.get_input_details()[0][\"index\"]\n",
        "  output_index = interpreter.get_output_details()[0][\"index\"]\n",
        "\n",
        "  # Run predictions on every image in the \"test\" dataset.\n",
        "  prediction_digits = []\n",
        "  for i, test_image in enumerate(test_images):\n",
        "    if i % 1000 == 0:\n",
        "      print('Evaluated on {n} results so far.'.format(n=i))\n",
        "    # Pre-processing: add batch dimension and convert to float32 to match with\n",
        "    # the model's input data format.\n",
        "    test_image = np.expand_dims(test_image, axis=0).astype(np.float32)\n",
        "    interpreter.set_tensor(input_index, test_image)\n",
        "\n",
        "    # Run inference.\n",
        "    interpreter.invoke()\n",
        "\n",
        "    # Post-processing: remove batch dimension and find the digit with highest\n",
        "    # probability.\n",
        "    output = interpreter.tensor(output_index)\n",
        "    digit = np.argmax(output()[0])\n",
        "    prediction_digits.append(digit)\n",
        "\n",
        "  print('\\n')\n",
        "  # Compare prediction results with ground truth labels to calculate accuracy.\n",
        "  prediction_digits = np.array(prediction_digits)\n",
        "  accuracy = (prediction_digits == test_labels).mean()\n",
        "  return accuracy"
      ],
      "execution_count": null,
      "outputs": []
    },
    {
      "cell_type": "code",
      "metadata": {
        "colab": {
          "base_uri": "https://localhost:8080/"
        },
        "id": "OPsI9xjILxJk",
        "outputId": "360b2859-7029-4259-9998-e53593f2269d"
      },
      "source": [
        "# load dataset\n",
        "train_images, train_labels, test_images, test_labels = load_dataset()\n",
        "\n",
        "# prepare pixel data\n",
        "train_images, test_images = prep_pixels(train_images, test_images)\n",
        "\n",
        "#load model\n",
        "model = tf.keras.models.load_model('/content/gdrive/MyDrive/Διπλωματική Κώδικες τελικοί/saved_models/tf_flower.h5')"
      ],
      "execution_count": null,
      "outputs": [
        {
          "output_type": "stream",
          "name": "stdout",
          "text": [
            "3670\n"
          ]
        }
      ]
    },
    {
      "cell_type": "code",
      "metadata": {
        "colab": {
          "base_uri": "https://localhost:8080/"
        },
        "id": "1VjwE3djL2gN",
        "outputId": "70fbdff3-0a09-450f-b52b-2cf96451535c"
      },
      "source": [
        "#Define Quantization Model\n",
        "\n",
        "quantize_model = tfmot.quantization.keras.quantize_model\n",
        "\n",
        "# q_aware stands for for quantization aware.\n",
        "q_aware_model = quantize_model(model)\n",
        "\n",
        "# `quantize_model` requires a recompile.\n",
        "q_aware_model.compile(optimizer='adam',\n",
        "              loss=tf.keras.losses.SparseCategoricalCrossentropy(from_logits=True),\n",
        "              metrics=['accuracy'])\n",
        "\n",
        "q_aware_model.summary()"
      ],
      "execution_count": null,
      "outputs": [
        {
          "output_type": "stream",
          "name": "stdout",
          "text": [
            "Model: \"sequential\"\n",
            "_________________________________________________________________\n",
            "Layer (type)                 Output Shape              Param #   \n",
            "=================================================================\n",
            "quantize_layer (QuantizeLay  (None, 280, 280, 3)       3         \n",
            "er)                                                              \n",
            "_________________________________________________________________\n",
            "quant_conv2d (QuantizeWrapp  (None, 140, 140, 64)      9539      \n",
            "er)                                                              \n",
            "_________________________________________________________________\n",
            "quant_max_pooling2d (Quanti  (None, 47, 70, 64)        1         \n",
            "zeWrapper)                                                       \n",
            "_________________________________________________________________\n",
            "quant_conv2d_1 (QuantizeWra  (None, 24, 35, 128)       401667    \n",
            "pper)                                                            \n",
            "_________________________________________________________________\n",
            "quant_max_pooling2d_1 (Quan  (None, 8, 18, 128)        1         \n",
            "tizeWrapper)                                                     \n",
            "_________________________________________________________________\n",
            "quant_conv2d_2 (QuantizeWra  (None, 4, 9, 256)         1606147   \n",
            "pper)                                                            \n",
            "_________________________________________________________________\n",
            "quant_max_pooling2d_2 (Quan  (None, 2, 5, 256)         1         \n",
            "tizeWrapper)                                                     \n",
            "_________________________________________________________________\n",
            "quant_conv2d_3 (QuantizeWra  (None, 2, 5, 256)         590339    \n",
            "pper)                                                            \n",
            "_________________________________________________________________\n",
            "quant_max_pooling2d_3 (Quan  (None, 1, 3, 256)         1         \n",
            "tizeWrapper)                                                     \n",
            "_________________________________________________________________\n",
            "quant_conv2d_4 (QuantizeWra  (None, 1, 3, 64)          16515     \n",
            "pper)                                                            \n",
            "_________________________________________________________________\n",
            "quant_max_pooling2d_4 (Quan  (None, 1, 2, 64)          1         \n",
            "tizeWrapper)                                                     \n",
            "_________________________________________________________________\n",
            "quant_flatten (QuantizeWrap  (None, 128)               1         \n",
            "per)                                                             \n",
            "_________________________________________________________________\n",
            "quant_dense (QuantizeWrappe  (None, 512)               66053     \n",
            "r)                                                               \n",
            "_________________________________________________________________\n",
            "quant_dense_1 (QuantizeWrap  (None, 5)                 2570      \n",
            "per)                                                             \n",
            "_________________________________________________________________\n",
            "=================================================================\n",
            "Total params: 2,692,839\n",
            "Trainable params: 2,691,269\n",
            "Non-trainable params: 1,570\n",
            "_________________________________________________________________\n"
          ]
        }
      ]
    },
    {
      "cell_type": "code",
      "metadata": {
        "colab": {
          "base_uri": "https://localhost:8080/"
        },
        "id": "JbgezQ8vL5K5",
        "outputId": "7e5c7af7-3d3e-459c-ed06-7c3fe7c6c234"
      },
      "source": [
        "#train and evaluate model against baseline\n",
        "train_images_subset = train_images[0:1000]  # out of 60000\n",
        "train_labels_subset = train_labels[0:1000]\n",
        "\n",
        "q_aware_model.fit(train_images_subset, train_labels_subset,\n",
        "                  batch_size=500, epochs=5, validation_split=0.1)"
      ],
      "execution_count": null,
      "outputs": [
        {
          "output_type": "stream",
          "name": "stdout",
          "text": [
            "Epoch 1/5\n"
          ]
        },
        {
          "output_type": "stream",
          "name": "stderr",
          "text": [
            "/usr/local/lib/python3.7/dist-packages/tensorflow/python/util/dispatch.py:1096: UserWarning: \"`sparse_categorical_crossentropy` received `from_logits=True`, but the `output` argument was produced by a sigmoid or softmax activation and thus does not represent logits. Was this intended?\"\n",
            "  return dispatch_target(*args, **kwargs)\n"
          ]
        },
        {
          "output_type": "stream",
          "name": "stdout",
          "text": [
            "2/2 [==============================] - 97s 42s/step - loss: 0.1162 - accuracy: 0.9644 - val_loss: 0.0194 - val_accuracy: 1.0000\n",
            "Epoch 2/5\n",
            "2/2 [==============================] - 94s 43s/step - loss: 0.0372 - accuracy: 0.9889 - val_loss: 0.1178 - val_accuracy: 0.9500\n",
            "Epoch 3/5\n",
            "2/2 [==============================] - 93s 43s/step - loss: 0.0439 - accuracy: 0.9900 - val_loss: 0.0483 - val_accuracy: 0.9900\n",
            "Epoch 4/5\n",
            "2/2 [==============================] - 92s 42s/step - loss: 0.0162 - accuracy: 0.9967 - val_loss: 0.1070 - val_accuracy: 0.9500\n",
            "Epoch 5/5\n",
            "2/2 [==============================] - 89s 40s/step - loss: 0.0209 - accuracy: 0.9967 - val_loss: 0.0618 - val_accuracy: 0.9800\n"
          ]
        },
        {
          "output_type": "execute_result",
          "data": {
            "text/plain": [
              "<keras.callbacks.History at 0x7fcf511e0450>"
            ]
          },
          "metadata": {},
          "execution_count": 26
        }
      ]
    },
    {
      "cell_type": "code",
      "metadata": {
        "colab": {
          "base_uri": "https://localhost:8080/"
        },
        "id": "a1AdR38iL7n_",
        "outputId": "da6360ba-0df0-44f4-ab47-37b9f7dcc3c4"
      },
      "source": [
        "#Create Quantize model for TFLite\n",
        "converter = tf.lite.TFLiteConverter.from_keras_model(q_aware_model)\n",
        "converter.optimizations = [tf.lite.Optimize.DEFAULT]\n",
        "\n",
        "quantized_tflite_model = converter.convert()"
      ],
      "execution_count": null,
      "outputs": [
        {
          "output_type": "stream",
          "name": "stderr",
          "text": [
            "WARNING:absl:Found untraced functions such as conv2d_layer_call_fn, conv2d_layer_call_and_return_conditional_losses, conv2d_1_layer_call_fn, conv2d_1_layer_call_and_return_conditional_losses, conv2d_2_layer_call_fn while saving (showing 5 of 40). These functions will not be directly callable after loading.\n"
          ]
        },
        {
          "output_type": "stream",
          "name": "stdout",
          "text": [
            "INFO:tensorflow:Assets written to: /tmp/tmpq5tt_75_/assets\n"
          ]
        },
        {
          "output_type": "stream",
          "name": "stderr",
          "text": [
            "INFO:tensorflow:Assets written to: /tmp/tmpq5tt_75_/assets\n",
            "WARNING:absl:Buffer deduplication procedure will be skipped when flatbuffer library is not properly loaded\n"
          ]
        }
      ]
    },
    {
      "cell_type": "code",
      "metadata": {
        "colab": {
          "base_uri": "https://localhost:8080/"
        },
        "id": "feHGnmRLL9zn",
        "outputId": "ba98fed7-e29e-47e1-8380-1bc573538ee3"
      },
      "source": [
        "#Evaluate the quantized model\n",
        "_, baseline_model_accuracy = model.evaluate(\n",
        "    test_images, test_labels, verbose=0)\n",
        "\n",
        "_, q_aware_model_accuracy = q_aware_model.evaluate(\n",
        "   test_images, test_labels, verbose=0)\n",
        "\n",
        "print('Baseline test accuracy:', baseline_model_accuracy)\n",
        "print('Quant test accuracy:', q_aware_model_accuracy)"
      ],
      "execution_count": null,
      "outputs": [
        {
          "output_type": "stream",
          "name": "stderr",
          "text": [
            "/usr/local/lib/python3.7/dist-packages/tensorflow/python/util/dispatch.py:1096: UserWarning: \"`sparse_categorical_crossentropy` received `from_logits=True`, but the `output` argument was produced by a sigmoid or softmax activation and thus does not represent logits. Was this intended?\"\n",
            "  return dispatch_target(*args, **kwargs)\n"
          ]
        },
        {
          "output_type": "stream",
          "name": "stdout",
          "text": [
            "Baseline test accuracy: 0.7686956524848938\n",
            "Quant test accuracy: 0.7686956524848938\n"
          ]
        }
      ]
    },
    {
      "cell_type": "code",
      "metadata": {
        "colab": {
          "base_uri": "https://localhost:8080/"
        },
        "id": "g--hvGiwMAGs",
        "outputId": "8e0d2db5-4447-45cf-8d28-d9887068b442"
      },
      "source": [
        "#Check the size of the models\n",
        "# Create float TFLite model.\n",
        "float_converter = tf.lite.TFLiteConverter.from_keras_model(model)\n",
        "float_tflite_model = float_converter.convert()\n",
        "\n",
        "# Measure sizes of models.\n",
        "_, float_file = tempfile.mkstemp('.tflite')\n",
        "_, quant_file = tempfile.mkstemp('.tflite')\n",
        "\n",
        "with open(quant_file, 'wb') as f:\n",
        "  f.write(quantized_tflite_model)\n",
        "\n",
        "with open(float_file, 'wb') as f:\n",
        "  f.write(float_tflite_model)\n",
        "\n",
        "print(\"Float model in Mb:\", os.path.getsize(float_file) / float(2**20))\n",
        "print(\"Quantized model in Mb:\", os.path.getsize(quant_file) / float(2**20))"
      ],
      "execution_count": null,
      "outputs": [
        {
          "output_type": "stream",
          "name": "stdout",
          "text": [
            "INFO:tensorflow:Assets written to: /tmp/tmp80garp9o/assets\n"
          ]
        },
        {
          "output_type": "stream",
          "name": "stderr",
          "text": [
            "INFO:tensorflow:Assets written to: /tmp/tmp80garp9o/assets\n",
            "WARNING:absl:Buffer deduplication procedure will be skipped when flatbuffer library is not properly loaded\n"
          ]
        },
        {
          "output_type": "stream",
          "name": "stdout",
          "text": [
            "Float model in Mb: 10.27231216430664\n",
            "Quantized model in Mb: 2.5949020385742188\n"
          ]
        }
      ]
    }
  ]
}